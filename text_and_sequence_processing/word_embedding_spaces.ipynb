{
 "cells": [
  {
   "cell_type": "markdown",
   "id": "3a6bed67",
   "metadata": {},
   "source": [
    "## This notebook focuses on different ways to embed text as vectors using the Keras library\n",
    "\n",
    "In essence, the Embedding layer is like a dictionary that maps integer indices to dense vectors:\n",
    "\n",
    "Word index -> Embedding layer -> Corresponding word vector"
   ]
  },
  {
   "cell_type": "code",
   "execution_count": 7,
   "id": "75ceabbf",
   "metadata": {},
   "outputs": [],
   "source": [
    "from keras.layers import Embedding\n",
    "from keras.datasets import imdb\n",
    "from keras import preprocessing"
   ]
  },
  {
   "cell_type": "code",
   "execution_count": null,
   "id": "a07ad485",
   "metadata": {},
   "outputs": [],
   "source": [
    "# Ensure MacOS ARM chip GPU is being used\n"
   ]
  },
  {
   "cell_type": "code",
   "execution_count": 4,
   "id": "b9939ca5",
   "metadata": {},
   "outputs": [],
   "source": [
    "# 1000 - the number of possible tokens\n",
    "# 64 - the dimensionality of the encodings\n",
    "embedding_layer = Embedding(1000, 64)"
   ]
  },
  {
   "cell_type": "code",
   "execution_count": 8,
   "id": "406720cd",
   "metadata": {},
   "outputs": [
    {
     "name": "stdout",
     "output_type": "stream",
     "text": [
      "Downloading data from https://storage.googleapis.com/tensorflow/tf-keras-datasets/imdb.npz\n",
      "17464789/17464789 [==============================] - 7s 0us/step\n"
     ]
    }
   ],
   "source": [
    "# Loading the data\n",
    "# Only loads the 10,000 most common words\n",
    "max_features = 10000\n",
    "maxlen = 20\n",
    "(x_train, y_train), (x_test, y_test) = imdb.load_data(num_words=max_features)\n",
    "\n",
    "x_train = preprocessing.sequence.pad_sequences(x_train, maxlen=maxlen)\n",
    "x_test = preprocessing.sequence.pad_sequences(x_test, maxlen=maxlen)"
   ]
  }
 ],
 "metadata": {
  "kernelspec": {
   "display_name": "Python 3 (ipykernel)",
   "language": "python",
   "name": "python3"
  },
  "language_info": {
   "codemirror_mode": {
    "name": "ipython",
    "version": 3
   },
   "file_extension": ".py",
   "mimetype": "text/x-python",
   "name": "python",
   "nbconvert_exporter": "python",
   "pygments_lexer": "ipython3",
   "version": "3.11.5"
  }
 },
 "nbformat": 4,
 "nbformat_minor": 5
}
