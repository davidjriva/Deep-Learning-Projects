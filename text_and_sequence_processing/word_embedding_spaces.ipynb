{
 "cells": [
  {
   "cell_type": "code",
   "execution_count": 5,
   "id": "9c69f66b",
   "metadata": {},
   "outputs": [
    {
     "name": "stdout",
     "output_type": "stream",
     "text": [
      "Num GPUs Available:  1\n"
     ]
    }
   ],
   "source": [
    "# Ensure Mac ARM chip is used as GPU\n",
    "import tensorflow as tf\n",
    "print(\"Num GPUs Available: \", len(tf.config.experimental.list_physical_devices('GPU')))"
   ]
  },
  {
   "cell_type": "code",
   "execution_count": 6,
   "id": "061cee7e",
   "metadata": {},
   "outputs": [
    {
     "name": "stdout",
     "output_type": "stream",
     "text": [
      "tf.Tensor([ 4. 10. 18.], shape=(3,), dtype=float32)\n"
     ]
    }
   ],
   "source": [
    "with tf.device('/GPU:0'):\n",
    "    a = tf.constant([1.0, 2.0, 3.0])\n",
    "    b = tf.constant([4.0, 5.0, 6.0])\n",
    "    c = a * b\n",
    "    print(c)"
   ]
  },
  {
   "cell_type": "markdown",
   "id": "52f9f386",
   "metadata": {},
   "source": [
    "## This notebook focuses on different ways to embed text as vectors using the Keras library\n",
    "\n",
    "In essence, the Embedding layer is like a dictionary that maps integer indices to dense vectors:\n",
    "\n",
    "Word index -> Embedding layer -> Corresponding word vector"
   ]
  },
  {
   "cell_type": "code",
   "execution_count": 47,
   "id": "5f46aad0",
   "metadata": {},
   "outputs": [],
   "source": [
    "from keras.layers import Embedding\n",
    "from keras.datasets import imdb\n",
    "from keras.models import Sequential\n",
    "from keras.layers import Flatten, Dense\n",
    "from keras import preprocessing\n",
    "from keras.preprocessing.text import Tokenizer\n",
    "from keras.preprocessing.sequence import pad_sequences\n",
    "import matplotlib.pyplot as plt\n",
    "import numpy as np\n",
    "import os"
   ]
  },
  {
   "cell_type": "code",
   "execution_count": 9,
   "id": "0857f0ee",
   "metadata": {},
   "outputs": [],
   "source": [
    "# Loading the data\n",
    "# Only loads the 10,000 most common words\n",
    "max_features = 10000\n",
    "maxlen = 20\n",
    "(x_train, y_train), (x_test, y_test) = imdb.load_data(num_words=max_features)\n",
    "\n",
    "x_train = preprocessing.sequence.pad_sequences(x_train, maxlen=maxlen)\n",
    "x_test = preprocessing.sequence.pad_sequences(x_test, maxlen=maxlen)"
   ]
  },
  {
   "cell_type": "code",
   "execution_count": 13,
   "id": "2bda1d6c",
   "metadata": {},
   "outputs": [
    {
     "name": "stdout",
     "output_type": "stream",
     "text": [
      "Model: \"sequential_2\"\n",
      "_________________________________________________________________\n",
      " Layer (type)                Output Shape              Param #   \n",
      "=================================================================\n",
      " embedding_3 (Embedding)     (None, 20, 8)             80000     \n",
      "                                                                 \n",
      " flatten_2 (Flatten)         (None, 160)               0         \n",
      "                                                                 \n",
      " dense_2 (Dense)             (None, 1)                 161       \n",
      "                                                                 \n",
      "=================================================================\n",
      "Total params: 80161 (313.13 KB)\n",
      "Trainable params: 80161 (313.13 KB)\n",
      "Non-trainable params: 0 (0.00 Byte)\n",
      "_________________________________________________________________\n",
      "Epoch 1/10\n",
      "625/625 [==============================] - 5s 7ms/step - loss: 0.6698 - acc: 0.6205 - val_loss: 0.6233 - val_acc: 0.6954\n",
      "Epoch 2/10\n",
      "625/625 [==============================] - 3s 5ms/step - loss: 0.5479 - acc: 0.7513 - val_loss: 0.5305 - val_acc: 0.7328\n",
      "Epoch 3/10\n",
      "625/625 [==============================] - 3s 5ms/step - loss: 0.4648 - acc: 0.7860 - val_loss: 0.5027 - val_acc: 0.7438\n",
      "Epoch 4/10\n",
      "625/625 [==============================] - 3s 5ms/step - loss: 0.4225 - acc: 0.8105 - val_loss: 0.4967 - val_acc: 0.7508\n",
      "Epoch 5/10\n",
      "625/625 [==============================] - 3s 5ms/step - loss: 0.3937 - acc: 0.8253 - val_loss: 0.4962 - val_acc: 0.7518\n",
      "Epoch 6/10\n",
      "625/625 [==============================] - 3s 5ms/step - loss: 0.3691 - acc: 0.8391 - val_loss: 0.5001 - val_acc: 0.7522\n",
      "Epoch 7/10\n",
      "625/625 [==============================] - 3s 5ms/step - loss: 0.3469 - acc: 0.8507 - val_loss: 0.5069 - val_acc: 0.7500\n",
      "Epoch 8/10\n",
      "625/625 [==============================] - 3s 5ms/step - loss: 0.3266 - acc: 0.8630 - val_loss: 0.5155 - val_acc: 0.7492\n",
      "Epoch 9/10\n",
      "625/625 [==============================] - 3s 5ms/step - loss: 0.3074 - acc: 0.8724 - val_loss: 0.5243 - val_acc: 0.7476\n",
      "Epoch 10/10\n",
      "625/625 [==============================] - 3s 5ms/step - loss: 0.2895 - acc: 0.8814 - val_loss: 0.5349 - val_acc: 0.7432\n"
     ]
    }
   ],
   "source": [
    "model = Sequential()\n",
    "\n",
    "# 10000 - the number of possible tokens\n",
    "# 8 - the dimensionality of the encodings\n",
    "model.add(Embedding(10000, 8, input_length=maxlen))\n",
    "\n",
    "model.add(Flatten())\n",
    "\n",
    "model.add(Dense(1, activation='sigmoid'))\n",
    "model.compile(optimizer='rmsprop', loss='binary_crossentropy', metrics=['acc'])\n",
    "\n",
    "model.summary()\n",
    "\n",
    "history = model.fit(x_train, y_train, epochs=10, batch_size=32, validation_split=0.2, verbose=True)"
   ]
  },
  {
   "cell_type": "markdown",
   "id": "17273a0c",
   "metadata": {},
   "source": [
    "The model above exhibits certain shortcomings. The biggest one is that it is unable to identify semantic connection and structure of words within a sentence. This leads to misinterpretations of natural language (i.e. \"this movie is THE bomb\" == \"this movie is a bomb\"). We will attempt better approaches using a 1-D convolutional neural network (CNN) and a recurrent neural network (RNN)"
   ]
  },
  {
   "cell_type": "code",
   "execution_count": 56,
   "id": "591e052d",
   "metadata": {},
   "outputs": [],
   "source": [
    "# Load raw text data\n",
    "# -> Processing the labels of the raw IMDB data\n",
    "imdb_dir = '/Users/davidriva/Desktop/Coding-Projects/Deep-Learning-Projects/text_and_sequence_processing/data/aclImdb'\n",
    "\n",
    "train_dir = os.path.join(imdb_dir, 'train')\n",
    "\n",
    "labels = []\n",
    "texts = []\n",
    "\n",
    "for label_type in ['neg', 'pos']:\n",
    "    dir_name = os.path.join(train_dir, label_type)\n",
    "    for fname in os.listdir(dir_name):\n",
    "        if fname[-4:] == '.txt':\n",
    "            f = open(os.path.join(dir_name, fname))\n",
    "            texts.append(f.read())\n",
    "            f.close()\n",
    "            \n",
    "            if label_type == 'neg':\n",
    "                labels.append(0)\n",
    "            else:\n",
    "                labels.append(1)"
   ]
  },
  {
   "cell_type": "code",
   "execution_count": 57,
   "id": "6be6d8b1",
   "metadata": {},
   "outputs": [],
   "source": [
    "# Tokenizing the text of the raw IMDB data\n",
    "maxlen = 100 # cut off reviews after 100 words\n",
    "training_samples = 2000\n",
    "validation_samples = 10000\n",
    "max_words = 10000 # considers only the top 10,000 words in the dataset\n",
    "\n",
    "tokenizer = Tokenizer(num_words=max_words)\n",
    "tokenizer.fit_on_texts(texts)\n",
    "sequences=tokenizer.texts_to_sequences(texts)"
   ]
  },
  {
   "cell_type": "code",
   "execution_count": 58,
   "id": "eae40a5c",
   "metadata": {},
   "outputs": [
    {
     "name": "stdout",
     "output_type": "stream",
     "text": [
      "Found 88582 unique tokens.\n",
      "Shape of data tensor: (25000, 100)\n",
      "Shape of label tensor: (25000,)\n"
     ]
    }
   ],
   "source": [
    "word_index = tokenizer.word_index\n",
    "print('Found %s unique tokens.' % len(word_index))\n",
    "\n",
    "data = pad_sequences(sequences, maxlen=maxlen)\n",
    "\n",
    "labels = np.asarray(labels)\n",
    "print('Shape of data tensor:', data.shape)\n",
    "print('Shape of label tensor:', labels.shape)\n",
    "\n",
    "indices = np.arange(data.shape[0])\n",
    "np.random.shuffle(indices)\n",
    "data = data[indices]\n",
    "labels = labels[indices]\n",
    "\n",
    "x_train = data[:training_samples]\n",
    "y_train = labels[:training_samples]\n",
    "x_val = data[training_samples: training_samples + validation_samples]\n",
    "y_val = labels[training_samples : training_samples + validation_samples]"
   ]
  },
  {
   "cell_type": "code",
   "execution_count": 59,
   "id": "bce1d12b",
   "metadata": {},
   "outputs": [
    {
     "name": "stdout",
     "output_type": "stream",
     "text": [
      "Found 400000 word vectors.\n"
     ]
    }
   ],
   "source": [
    "# Use precomputed embeddings from Stanford GloVe\n",
    "\n",
    "glove_dir = '/Users/davidriva/Desktop/Coding-Projects/Deep-Learning-Projects/text_and_sequence_processing/data/glove.6B'\n",
    "\n",
    "embeddings_index = {}\n",
    "f = open(os.path.join(glove_dir, 'glove.6B.100d.txt'))\n",
    "\n",
    "for line in f:\n",
    "    values = line.split()\n",
    "    word = values[0]\n",
    "    coefs = np.asarray(values[1:], dtype='float32')\n",
    "    embeddings_index[word] = coefs\n",
    "    \n",
    "f.close()\n",
    "\n",
    "print('Found %s word vectors.' % len(embeddings_index))"
   ]
  },
  {
   "cell_type": "code",
   "execution_count": 60,
   "id": "08d95b2c",
   "metadata": {},
   "outputs": [],
   "source": [
    "# Preparing the GloVe word-embeddings matrix\n",
    "embedding_dim = 100\n",
    "\n",
    "embedding_matrix = np.zeros((max_words, embedding_dim))\n",
    "for word, i in word_index.items():\n",
    "    if i < max_words:\n",
    "        embedding_vector = embeddings_index.get(word)\n",
    "        if embedding_vector is not None:\n",
    "            embedding_matrix[i] = embedding_vector"
   ]
  },
  {
   "cell_type": "code",
   "execution_count": 61,
   "id": "4a1b89d0",
   "metadata": {},
   "outputs": [
    {
     "name": "stdout",
     "output_type": "stream",
     "text": [
      "Epoch 1/10\n",
      "63/63 [==============================] - 2s 20ms/step - loss: 0.9400 - acc: 0.5680 - val_loss: 0.7687 - val_acc: 0.5660\n",
      "Epoch 2/10\n",
      "63/63 [==============================] - 1s 15ms/step - loss: 0.6453 - acc: 0.6530 - val_loss: 0.9238 - val_acc: 0.5462\n",
      "Epoch 3/10\n",
      "63/63 [==============================] - 1s 15ms/step - loss: 0.6087 - acc: 0.7010 - val_loss: 0.7068 - val_acc: 0.6157\n",
      "Epoch 4/10\n",
      "63/63 [==============================] - 1s 15ms/step - loss: 0.5068 - acc: 0.7460 - val_loss: 0.7072 - val_acc: 0.6240\n",
      "Epoch 5/10\n",
      "63/63 [==============================] - 1s 14ms/step - loss: 0.4532 - acc: 0.8035 - val_loss: 0.7242 - val_acc: 0.6346\n",
      "Epoch 6/10\n",
      "63/63 [==============================] - 1s 15ms/step - loss: 0.3872 - acc: 0.8280 - val_loss: 0.8289 - val_acc: 0.6195\n",
      "Epoch 7/10\n",
      "63/63 [==============================] - 1s 14ms/step - loss: 0.3146 - acc: 0.8650 - val_loss: 0.7534 - val_acc: 0.6456\n",
      "Epoch 8/10\n",
      "63/63 [==============================] - 1s 14ms/step - loss: 0.2916 - acc: 0.8830 - val_loss: 0.9654 - val_acc: 0.6103\n",
      "Epoch 9/10\n",
      "63/63 [==============================] - 1s 14ms/step - loss: 0.2850 - acc: 0.8850 - val_loss: 0.8214 - val_acc: 0.6459\n",
      "Epoch 10/10\n",
      "63/63 [==============================] - 1s 15ms/step - loss: 0.1901 - acc: 0.9320 - val_loss: 0.9632 - val_acc: 0.6289\n"
     ]
    }
   ],
   "source": [
    "# Create a simple NN\n",
    "model = Sequential()\n",
    "model.add(Embedding(max_words, embedding_dim, input_length=maxlen))\n",
    "model.add(Flatten())\n",
    "model.add(Dense(32, activation='relu'))\n",
    "model.add(Dense(1, activation='sigmoid'))\n",
    "\n",
    "# Load pretrained word embeddings into the Embedding layer\n",
    "model.layers[0].set_weights([embedding_matrix])\n",
    "model.layers[0].trainable=False\n",
    "\n",
    "model.compile(optimizer='rmsprop', loss='binary_crossentropy', metrics=['acc'])\n",
    "history=model.fit(x_train, y_train, epochs=10, batch_size=32, validation_data=[x_val, y_val])\n",
    "model.save_weights('pre_trained_glove_model.h5')"
   ]
  },
  {
   "cell_type": "code",
   "execution_count": 63,
   "id": "eca83ff5",
   "metadata": {},
   "outputs": [
    {
     "data": {
      "image/png": "[encoded data removed]",
      "text/plain": [
       "<Figure size 640x480 with 1 Axes>"
      ]
     },
     "metadata": {},
     "output_type": "display_data"
    },
    {
     "data": {
      "image/png": "[encoded data removed]",
      "text/plain": [
       "<Figure size 640x480 with 1 Axes>"
      ]
     },
     "metadata": {},
     "output_type": "display_data"
    }
   ],
   "source": [
    "loss = history.history['loss']\n",
    "val_loss = history.history['val_loss']\n",
    "accuracy = history.history['acc']\n",
    "val_accuracy = history.history['val_acc']\n",
    "\n",
    "epochs = range(1, len(acc) + 1)\n",
    "\n",
    "plt.plot(epochs, acc, 'o', color='orange', label='Training Acc')\n",
    "plt.plot(epochs, val_acc, 'b', label='Validation Acc')\n",
    "plt.title('Training and Validation Accuracy')\n",
    "plt.legend()\n",
    "\n",
    "plt.figure()\n",
    "\n",
    "plt.plot(epochs, loss, 'o', color='orange', label='Training Loss')\n",
    "plt.plot(epochs, val_loss, 'b', label='Validation Loss')\n",
    "plt.title('Training and Validation Loss')\n",
    "plt.legend()\n",
    "\n",
    "plt.show()"
   ]
  },
  {
   "cell_type": "code",
   "execution_count": 64,
   "id": "ae3d62be",
   "metadata": {},
   "outputs": [],
   "source": [
    "# Load test data\n",
    "imdb_dir = '/Users/davidriva/Desktop/Coding-Projects/Deep-Learning-Projects/text_and_sequence_processing/data/aclImdb'\n",
    "\n",
    "test_dir = os.path.join(imdb_dir, 'test')\n",
    "\n",
    "labels = []\n",
    "texts = []\n",
    "\n",
    "for label_type in ['neg', 'pos']:\n",
    "    dir_name = os.path.join(train_dir, label_type)\n",
    "    for fname in os.listdir(dir_name):\n",
    "        if fname[-4:] == '.txt':\n",
    "            f = open(os.path.join(dir_name, fname))\n",
    "            texts.append(f.read())\n",
    "            f.close()\n",
    "            \n",
    "            if label_type == 'neg':\n",
    "                labels.append(0)\n",
    "            else:\n",
    "                labels.append(1)\n",
    "                \n",
    "sequences=tokenizer.texts_to_sequences(texts)\n",
    "x_test = pad_sequences(sequences, maxlen=maxlen)\n",
    "y_test = np.asarray(labels)"
   ]
  },
  {
   "cell_type": "code",
   "execution_count": 66,
   "id": "326285ed",
   "metadata": {},
   "outputs": [
    {
     "name": "stdout",
     "output_type": "stream",
     "text": [
      "782/782 [==============================] - 2s 3ms/step - loss: 0.8894 - acc: 0.6551\n"
     ]
    },
    {
     "data": {
      "text/plain": [
       "[0.8893553614616394, 0.6551200151443481]"
      ]
     },
     "execution_count": 66,
     "metadata": {},
     "output_type": "execute_result"
    }
   ],
   "source": [
    "# Evaluate on test data\n",
    "model.load_weights('pre_trained_glove_model.h5')\n",
    "model.evaluate(x_test, y_test)"
   ]
  }
 ],
 "metadata": {
  "kernelspec": {
   "display_name": "Python 3 (ipykernel)",
   "language": "python",
   "name": "python3"
  },
  "language_info": {
   "codemirror_mode": {
    "name": "ipython",
    "version": 3
   },
   "file_extension": ".py",
   "mimetype": "text/x-python",
   "name": "python",
   "nbconvert_exporter": "python",
   "pygments_lexer": "ipython3",
   "version": "3.11.5"
  }
 },
 "nbformat": 4,
 "nbformat_minor": 5
}
