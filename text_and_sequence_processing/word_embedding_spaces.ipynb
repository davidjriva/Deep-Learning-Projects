{
 "cells": [
  {
   "cell_type": "code",
   "execution_count": 70,
   "id": "9c69f66b",
   "metadata": {},
   "outputs": [
    {
     "name": "stdout",
     "output_type": "stream",
     "text": [
      "Num GPUs Available:  1\n"
     ]
    }
   ],
   "source": [
    "# Ensure Mac ARM chip is used as GPU\n",
    "import tensorflow as tf\n",
    "print(\"Num GPUs Available: \", len(tf.config.experimental.list_physical_devices('GPU')))"
   ]
  },
  {
   "cell_type": "code",
   "execution_count": 71,
   "id": "95273e6c",
   "metadata": {},
   "outputs": [
    {
     "name": "stdout",
     "output_type": "stream",
     "text": [
      "tf.Tensor([ 4. 10. 18.], shape=(3,), dtype=float32)\n"
     ]
    }
   ],
   "source": [
    "with tf.device('/GPU:0'):\n",
    "    a = tf.constant([1.0, 2.0, 3.0])\n",
    "    b = tf.constant([4.0, 5.0, 6.0])\n",
    "    c = a * b\n",
    "    print(c)"
   ]
  },
  {
   "cell_type": "markdown",
   "id": "52f9f386",
   "metadata": {},
   "source": [
    "## This notebook focuses on different ways to embed text as vectors using the Keras library\n",
    "\n",
    "In essence, the Embedding layer is like a dictionary that maps integer indices to dense vectors:\n",
    "\n",
    "Word index -> Embedding layer -> Corresponding word vector"
   ]
  },
  {
   "cell_type": "code",
   "execution_count": 72,
   "id": "5f46aad0",
   "metadata": {},
   "outputs": [],
   "source": [
    "from keras.layers import Embedding\n",
    "from keras.datasets import imdb\n",
    "from keras.models import Sequential\n",
    "from keras.layers import Flatten, Dense\n",
    "from keras import preprocessing\n",
    "from keras.preprocessing.text import Tokenizer\n",
    "from keras.preprocessing.sequence import pad_sequences\n",
    "import matplotlib.pyplot as plt\n",
    "import numpy as np\n",
    "import os"
   ]
  },
  {
   "cell_type": "code",
   "execution_count": 73,
   "id": "0857f0ee",
   "metadata": {},
   "outputs": [],
   "source": [
    "# Loading the data\n",
    "# Only loads the 10,000 most common words\n",
    "max_features = 10000\n",
    "maxlen = 20\n",
    "(x_train, y_train), (x_test, y_test) = imdb.load_data(num_words=max_features)\n",
    "\n",
    "x_train = preprocessing.sequence.pad_sequences(x_train, maxlen=maxlen)\n",
    "x_test = preprocessing.sequence.pad_sequences(x_test, maxlen=maxlen)"
   ]
  },
  {
   "cell_type": "code",
   "execution_count": 74,
   "id": "63d745fd",
   "metadata": {},
   "outputs": [
    {
     "name": "stdout",
     "output_type": "stream",
     "text": [
      "Model: \"sequential_8\"\n",
      "_________________________________________________________________\n",
      " Layer (type)                Output Shape              Param #   \n",
      "=================================================================\n",
      " embedding_9 (Embedding)     (None, 20, 8)             80000     \n",
      "                                                                 \n",
      " flatten_8 (Flatten)         (None, 160)               0         \n",
      "                                                                 \n",
      " dense_13 (Dense)            (None, 1)                 161       \n",
      "                                                                 \n",
      "=================================================================\n",
      "Total params: 80161 (313.13 KB)\n",
      "Trainable params: 80161 (313.13 KB)\n",
      "Non-trainable params: 0 (0.00 Byte)\n",
      "_________________________________________________________________\n",
      "Epoch 1/10\n",
      "625/625 [==============================] - 5s 8ms/step - loss: 0.6554 - acc: 0.6498 - val_loss: 0.5905 - val_acc: 0.7070\n",
      "Epoch 2/10\n",
      "625/625 [==============================] - 4s 6ms/step - loss: 0.5192 - acc: 0.7581 - val_loss: 0.5123 - val_acc: 0.7410\n",
      "Epoch 3/10\n",
      "625/625 [==============================] - 3s 6ms/step - loss: 0.4539 - acc: 0.7904 - val_loss: 0.4962 - val_acc: 0.7488\n",
      "Epoch 4/10\n",
      "625/625 [==============================] - 4s 6ms/step - loss: 0.4222 - acc: 0.8080 - val_loss: 0.4928 - val_acc: 0.7544\n",
      "Epoch 5/10\n",
      "625/625 [==============================] - 4s 6ms/step - loss: 0.4006 - acc: 0.8187 - val_loss: 0.4934 - val_acc: 0.7578\n",
      "Epoch 6/10\n",
      "625/625 [==============================] - 3s 5ms/step - loss: 0.3824 - acc: 0.8293 - val_loss: 0.4984 - val_acc: 0.7588\n",
      "Epoch 7/10\n",
      "625/625 [==============================] - 4s 6ms/step - loss: 0.3660 - acc: 0.8373 - val_loss: 0.4998 - val_acc: 0.7586\n",
      "Epoch 8/10\n",
      "625/625 [==============================] - 3s 5ms/step - loss: 0.3494 - acc: 0.8472 - val_loss: 0.5038 - val_acc: 0.7594\n",
      "Epoch 9/10\n",
      "625/625 [==============================] - 3s 6ms/step - loss: 0.3325 - acc: 0.8586 - val_loss: 0.5099 - val_acc: 0.7588\n",
      "Epoch 10/10\n",
      "625/625 [==============================] - 3s 6ms/step - loss: 0.3167 - acc: 0.8674 - val_loss: 0.5158 - val_acc: 0.7572\n"
     ]
    }
   ],
   "source": [
    "model = Sequential()\n",
    "\n",
    "# 10000 - the number of possible tokens\n",
    "# 8 - the dimensionality of the encodings\n",
    "model.add(Embedding(10000, 8, input_length=maxlen))\n",
    "\n",
    "model.add(Flatten())\n",
    "\n",
    "model.add(Dense(1, activation='sigmoid'))\n",
    "model.compile(optimizer='rmsprop', loss='binary_crossentropy', metrics=['acc'])\n",
    "\n",
    "model.summary()\n",
    "\n",
    "history = model.fit(x_train, y_train, epochs=10, batch_size=32, validation_split=0.2, verbose=True)"
   ]
  },
  {
   "cell_type": "markdown",
   "id": "31887a3a",
   "metadata": {},
   "source": [
    "The model above exhibits certain shortcomings. The biggest one is that it is unable to identify semantic connection and structure of words within a sentence. This leads to misinterpretations of natural language (i.e. \"this movie is THE bomb\" == \"this movie is a bomb\"). We will attempt better approaches using a 1-D convolutional neural network (CNN) and a recurrent neural network (RNN)"
   ]
  },
  {
   "cell_type": "code",
   "execution_count": 75,
   "id": "494b19e3",
   "metadata": {},
   "outputs": [],
   "source": [
    "# Load raw text data\n",
    "# -> Processing the labels of the raw IMDB data\n",
    "imdb_dir = '/Users/davidriva/Desktop/Coding-Projects/Deep-Learning-Projects/text_and_sequence_processing/data/aclImdb'\n",
    "\n",
    "train_dir = os.path.join(imdb_dir, 'train')\n",
    "\n",
    "labels = []\n",
    "texts = []\n",
    "\n",
    "for label_type in ['neg', 'pos']:\n",
    "    dir_name = os.path.join(train_dir, label_type)\n",
    "    for fname in os.listdir(dir_name):\n",
    "        if fname[-4:] == '.txt':\n",
    "            f = open(os.path.join(dir_name, fname))\n",
    "            texts.append(f.read())\n",
    "            f.close()\n",
    "            \n",
    "            if label_type == 'neg':\n",
    "                labels.append(0)\n",
    "            else:\n",
    "                labels.append(1)"
   ]
  },
  {
   "cell_type": "code",
   "execution_count": 76,
   "id": "16a424aa",
   "metadata": {},
   "outputs": [],
   "source": [
    "# Tokenizing the text of the raw IMDB data\n",
    "maxlen = 100 # cut off reviews after 100 words\n",
    "training_samples = 200\n",
    "validation_samples = 10000\n",
    "max_words = 10000 # considers only the top 10,000 words in the dataset\n",
    "\n",
    "tokenizer = Tokenizer(num_words=max_words)\n",
    "tokenizer.fit_on_texts(texts)\n",
    "sequences=tokenizer.texts_to_sequences(texts)"
   ]
  },
  {
   "cell_type": "code",
   "execution_count": 77,
   "id": "787850e0",
   "metadata": {},
   "outputs": [
    {
     "name": "stdout",
     "output_type": "stream",
     "text": [
      "Found 88582 unique tokens.\n",
      "Shape of data tensor: (25000, 100)\n",
      "Shape of label tensor: (25000,)\n"
     ]
    }
   ],
   "source": [
    "word_index = tokenizer.word_index\n",
    "print('Found %s unique tokens.' % len(word_index))\n",
    "\n",
    "data = pad_sequences(sequences, maxlen=maxlen)\n",
    "\n",
    "labels = np.asarray(labels)\n",
    "print('Shape of data tensor:', data.shape)\n",
    "print('Shape of label tensor:', labels.shape)\n",
    "\n",
    "indices = np.arange(data.shape[0])\n",
    "np.random.shuffle(indices)\n",
    "data = data[indices]\n",
    "labels = labels[indices]\n",
    "\n",
    "x_train = data[:training_samples]\n",
    "y_train = labels[:training_samples]\n",
    "x_val = data[training_samples: training_samples + validation_samples]\n",
    "y_val = labels[training_samples : training_samples + validation_samples]"
   ]
  },
  {
   "cell_type": "code",
   "execution_count": 78,
   "id": "a6a2f0bb",
   "metadata": {},
   "outputs": [
    {
     "name": "stdout",
     "output_type": "stream",
     "text": [
      "Found 400000 word vectors.\n"
     ]
    }
   ],
   "source": [
    "# Use precomputed embeddings from Stanford GloVe\n",
    "\n",
    "glove_dir = '/Users/davidriva/Desktop/Coding-Projects/Deep-Learning-Projects/text_and_sequence_processing/data/glove.6B'\n",
    "\n",
    "embeddings_index = {}\n",
    "f = open(os.path.join(glove_dir, 'glove.6B.100d.txt'))\n",
    "\n",
    "for line in f:\n",
    "    values = line.split()\n",
    "    word = values[0]\n",
    "    coefs = np.asarray(values[1:], dtype='float32')\n",
    "    embeddings_index[word] = coefs\n",
    "    \n",
    "f.close()\n",
    "\n",
    "print('Found %s word vectors.' % len(embeddings_index))"
   ]
  },
  {
   "cell_type": "code",
   "execution_count": 79,
   "id": "3045d5fc",
   "metadata": {},
   "outputs": [],
   "source": [
    "# Preparing the GloVe word-embeddings matrix\n",
    "embedding_dim = 100\n",
    "\n",
    "embedding_matrix = np.zeros((max_words, embedding_dim))\n",
    "for word, i in word_index.items():\n",
    "    if i < max_words:\n",
    "        embedding_vector = embeddings_index.get(word)\n",
    "        if embedding_vector is not None:\n",
    "            embedding_matrix[i] = embedding_vector"
   ]
  },
  {
   "cell_type": "code",
   "execution_count": 80,
   "id": "55f1977e",
   "metadata": {},
   "outputs": [
    {
     "name": "stdout",
     "output_type": "stream",
     "text": [
      "Epoch 1/10\n",
      "63/63 [==============================] - 2s 21ms/step - loss: 1.3895 - acc: 0.5395 - val_loss: 0.7804 - val_acc: 0.5550\n",
      "Epoch 2/10\n",
      "63/63 [==============================] - 1s 15ms/step - loss: 0.7415 - acc: 0.5900 - val_loss: 0.7351 - val_acc: 0.5817\n",
      "Epoch 3/10\n",
      "63/63 [==============================] - 1s 14ms/step - loss: 0.6440 - acc: 0.6535 - val_loss: 0.7334 - val_acc: 0.5868\n",
      "Epoch 4/10\n",
      "63/63 [==============================] - 1s 15ms/step - loss: 0.5344 - acc: 0.7380 - val_loss: 0.6947 - val_acc: 0.6178\n",
      "Epoch 5/10\n",
      "63/63 [==============================] - 1s 15ms/step - loss: 0.5193 - acc: 0.7500 - val_loss: 0.6947 - val_acc: 0.6235\n",
      "Epoch 6/10\n",
      "63/63 [==============================] - 1s 15ms/step - loss: 0.4334 - acc: 0.8080 - val_loss: 0.6975 - val_acc: 0.6304\n",
      "Epoch 7/10\n",
      "63/63 [==============================] - 1s 15ms/step - loss: 0.3820 - acc: 0.8275 - val_loss: 0.7137 - val_acc: 0.6359\n",
      "Epoch 8/10\n",
      "63/63 [==============================] - 1s 15ms/step - loss: 0.3291 - acc: 0.8580 - val_loss: 0.7194 - val_acc: 0.6393\n",
      "Epoch 9/10\n",
      "63/63 [==============================] - 1s 14ms/step - loss: 0.2719 - acc: 0.8855 - val_loss: 0.9367 - val_acc: 0.6110\n",
      "Epoch 10/10\n",
      "63/63 [==============================] - 1s 15ms/step - loss: 0.2297 - acc: 0.9095 - val_loss: 0.7422 - val_acc: 0.6497\n"
     ]
    }
   ],
   "source": [
    "# Create a simple NN\n",
    "model = Sequential()\n",
    "model.add(Embedding(max_words, embedding_dim, input_length=maxlen))\n",
    "model.add(Flatten())\n",
    "model.add(Dense(32, activation='relu'))\n",
    "model.add(Dense(1, activation='sigmoid'))\n",
    "\n",
    "# Load pretrained word embeddings into the Embedding layer\n",
    "model.layers[0].set_weights([embedding_matrix])\n",
    "model.layers[0].trainable=False\n",
    "\n",
    "model.compile(optimizer='rmsprop', loss='binary_crossentropy', metrics=['acc'])\n",
    "history=model.fit(x_train, y_train, epochs=10, batch_size=32, validation_data=[x_val, y_val])\n",
    "model.save_weights('pre_trained_glove_model.h5')"
   ]
  },
  {
   "cell_type": "code",
   "execution_count": 81,
   "id": "60682d79",
   "metadata": {},
   "outputs": [
    {
     "data": {
      "image/png": "[encoded data removed]",
      "text/plain": [
       "<Figure size 640x480 with 1 Axes>"
      ]
     },
     "metadata": {},
     "output_type": "display_data"
    },
    {
     "data": {
      "image/png": "[encoded data removed]",
      "text/plain": [
       "<Figure size 640x480 with 1 Axes>"
      ]
     },
     "metadata": {},
     "output_type": "display_data"
    }
   ],
   "source": [
    "loss = history.history['loss']\n",
    "val_loss = history.history['val_loss']\n",
    "accuracy = history.history['acc']\n",
    "val_accuracy = history.history['val_acc']\n",
    "\n",
    "epochs = range(1, len(acc) + 1)\n",
    "\n",
    "plt.plot(epochs, acc, 'o', color='orange', label='Training Acc')\n",
    "plt.plot(epochs, val_acc, 'b', label='Validation Acc')\n",
    "plt.title('Training and Validation Accuracy')\n",
    "plt.legend()\n",
    "\n",
    "plt.figure()\n",
    "\n",
    "plt.plot(epochs, loss, 'o', color='orange', label='Training Loss')\n",
    "plt.plot(epochs, val_loss, 'b', label='Validation Loss')\n",
    "plt.title('Training and Validation Loss')\n",
    "plt.legend()\n",
    "\n",
    "plt.show()"
   ]
  },
  {
   "cell_type": "code",
   "execution_count": 82,
   "id": "68a7d62a",
   "metadata": {},
   "outputs": [],
   "source": [
    "# Load test data\n",
    "imdb_dir = '/Users/davidriva/Desktop/Coding-Projects/Deep-Learning-Projects/text_and_sequence_processing/data/aclImdb'\n",
    "\n",
    "test_dir = os.path.join(imdb_dir, 'test')\n",
    "\n",
    "labels = []\n",
    "texts = []\n",
    "\n",
    "for label_type in ['neg', 'pos']:\n",
    "    dir_name = os.path.join(train_dir, label_type)\n",
    "    for fname in os.listdir(dir_name):\n",
    "        if fname[-4:] == '.txt':\n",
    "            f = open(os.path.join(dir_name, fname))\n",
    "            texts.append(f.read())\n",
    "            f.close()\n",
    "            \n",
    "            if label_type == 'neg':\n",
    "                labels.append(0)\n",
    "            else:\n",
    "                labels.append(1)\n",
    "                \n",
    "sequences=tokenizer.texts_to_sequences(texts)\n",
    "x_test = pad_sequences(sequences, maxlen=maxlen)\n",
    "y_test = np.asarray(labels)"
   ]
  },
  {
   "cell_type": "code",
   "execution_count": 83,
   "id": "eefc1330",
   "metadata": {},
   "outputs": [
    {
     "name": "stdout",
     "output_type": "stream",
     "text": [
      "782/782 [==============================] - 2s 3ms/step - loss: 0.6965 - acc: 0.6733\n",
      "Loss: 0.6965315341949463\n",
      "Accuracy: 0.6732800006866455\n"
     ]
    }
   ],
   "source": [
    "# Evaluate on test data\n",
    "model.load_weights('pre_trained_glove_model.h5')\n",
    "loss, accuracy = model.evaluate(x_test, y_test)\n",
    "\n",
    "print(f\"Loss: {loss}\")\n",
    "print(f\"Accuracy: {accuracy}\")"
   ]
  },
  {
   "cell_type": "markdown",
   "id": "206ff8a0",
   "metadata": {},
   "source": [
    "## Conclusions\n",
    "\n",
    "Overall, the approach was ineffective at categorizing the training examples as positive or negative based on the words & text. It performed better with local embeddings achieving a validation accuracy score of ~75%, however, with pre-weighted embeddings from GloVe it did worse at around ~67% testing accuracy. \n",
    "\n",
    "This can likely be attributed to the fact that the second model was trained on a small number of examples and the dense layer is not the best approach to classifying natural language. In future notebooks, I will try out different approaches including 1D CNN and RNN to see how theyc an"
   ]
  }
 ],
 "metadata": {
  "kernelspec": {
   "display_name": "Python 3 (ipykernel)",
   "language": "python",
   "name": "python3"
  },
  "language_info": {
   "codemirror_mode": {
    "name": "ipython",
    "version": 3
   },
   "file_extension": ".py",
   "mimetype": "text/x-python",
   "name": "python",
   "nbconvert_exporter": "python",
   "pygments_lexer": "ipython3",
   "version": "3.11.5"
  }
 },
 "nbformat": 4,
 "nbformat_minor": 5
}
